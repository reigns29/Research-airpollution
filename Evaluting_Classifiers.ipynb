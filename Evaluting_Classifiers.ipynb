{
 "cells": [
  {
   "cell_type": "code",
   "execution_count": 1,
   "id": "8bb036e0-494a-4b55-ad9e-921bd3da407f",
   "metadata": {},
   "outputs": [],
   "source": [
    "import pandas as pd\n",
    "from sklearn.model_selection import train_test_split\n",
    "from sklearn.preprocessing import LabelEncoder, StandardScaler\n",
    "from sklearn.metrics import accuracy_score, classification_report, confusion_matrix, precision_score, recall_score, f1_score\n",
    "from sklearn.linear_model import LogisticRegression\n",
    "from sklearn.tree import DecisionTreeClassifier\n",
    "from sklearn.ensemble import RandomForestClassifier, GradientBoostingClassifier\n",
    "from sklearn.svm import SVC\n",
    "from sklearn.neighbors import KNeighborsClassifier\n",
    "import xgboost as xgb"
   ]
  },
  {
   "cell_type": "code",
   "execution_count": 6,
   "id": "b4c74b01-c06a-45b0-92cf-04a89c050356",
   "metadata": {},
   "outputs": [
    {
     "name": "stdout",
     "output_type": "stream",
     "text": [
      "   Ozone,μg/m3  Sulphur Dioxide,μg/m3  PM2.5,μg/m3  PM10,μg/m3  Ammonia,μg/m3  \\\n",
      "0    26.791304              82.430870   342.301739  405.037826      26.720435   \n",
      "1    20.753333              65.158333   180.754167  226.001250      21.993750   \n",
      "2    43.925000              41.485000   115.901667  143.952500      20.280000   \n",
      "3    50.372500              41.515417   197.889167  234.861250      23.145000   \n",
      "4    34.696250              77.785417   329.381667  404.049583      47.233750   \n",
      "\n",
      "   Carbon Monoxide,mg/m3   NOx,μg/m3  AQI_calculated   Category  \n",
      "0                   2.97  108.429130           471.0     Severe  \n",
      "1                   2.31   89.862500           347.0  Very Poor  \n",
      "2                   1.59   61.155833           286.0       Poor  \n",
      "3                   2.46   81.926250           360.0  Very Poor  \n",
      "4                   4.52  159.669167           461.0     Severe  \n",
      "Index(['Ozone,μg/m3', 'Sulphur Dioxide,μg/m3', 'PM2.5,μg/m3', 'PM10,μg/m3',\n",
      "       'Ammonia,μg/m3', 'Carbon Monoxide,mg/m3', 'NOx,μg/m3', 'AQI_calculated',\n",
      "       'Category'],\n",
      "      dtype='object')\n"
     ]
    }
   ],
   "source": [
    "# Load the dataset\n",
    "AQIData2 = pd.read_csv(\"./AQI_with_Category.csv\")  # Uncomment this to load data from file\n",
    "\n",
    "print(AQIData2.head())  # Check the first few rows to verify\n",
    "print(AQIData2.columns)  # Inspect column names"
   ]
  },
  {
   "cell_type": "code",
   "execution_count": 7,
   "id": "72d6bb1f-ee47-470f-b93b-eb824f092364",
   "metadata": {},
   "outputs": [],
   "source": [
    "# Assuming AQIData2 is already loaded in the environment\n",
    "# Encode the AQI categories into numeric values\n",
    "label_encoder = LabelEncoder()\n",
    "AQIData2['Category_encoded'] = label_encoder.fit_transform(AQIData2['Category'])\n",
    "\n",
    "# Features and target\n",
    "X = AQIData2[['Ozone,μg/m3', 'Sulphur Dioxide,μg/m3', 'PM2.5,μg/m3', 'PM10,μg/m3',\n",
    "       'Ammonia,μg/m3', 'Carbon Monoxide,mg/m3', 'NOx,μg/m3']]\n",
    "y = AQIData2['Category_encoded']"
   ]
  },
  {
   "cell_type": "code",
   "execution_count": 8,
   "id": "0d16578b-7bbe-4c7c-a4f9-b32ca1a5ada6",
   "metadata": {},
   "outputs": [
    {
     "name": "stdout",
     "output_type": "stream",
     "text": [
      "\n",
      "Training Logistic Regression...\n",
      "Accuracy: 0.8418\n",
      "Precision: 0.8406\n",
      "Recall: 0.8418\n",
      "F1-Score: 0.8379\n",
      "\n",
      "Training Decision Tree...\n",
      "Accuracy: 0.9747\n",
      "Precision: 0.9755\n",
      "Recall: 0.9747\n",
      "F1-Score: 0.9743\n",
      "\n",
      "Training Random Forest...\n",
      "Accuracy: 0.9873\n",
      "Precision: 0.9887\n",
      "Recall: 0.9873\n",
      "F1-Score: 0.9875\n",
      "\n",
      "Training K-Nearest Neighbors...\n",
      "Accuracy: 0.7785\n",
      "Precision: 0.7690\n",
      "Recall: 0.7785\n",
      "F1-Score: 0.7714\n",
      "\n",
      "Training SVM...\n",
      "Accuracy: 0.8418\n",
      "Precision: 0.8482\n",
      "Recall: 0.8418\n",
      "F1-Score: 0.8428\n",
      "\n",
      "Training Gradient Boosting...\n",
      "Accuracy: 0.9810\n",
      "Precision: 0.9822\n",
      "Recall: 0.9810\n",
      "F1-Score: 0.9812\n",
      "\n",
      "Training XGBoost...\n",
      "Accuracy: 0.9810\n",
      "Precision: 0.9840\n",
      "Recall: 0.9810\n",
      "F1-Score: 0.9813\n"
     ]
    },
    {
     "name": "stderr",
     "output_type": "stream",
     "text": [
      "C:\\Users\\PC\\AppData\\Local\\Programs\\Python\\Python311\\Lib\\site-packages\\xgboost\\core.py:158: UserWarning: [15:46:31] WARNING: C:\\buildkite-agent\\builds\\buildkite-windows-cpu-autoscaling-group-i-0c55ff5f71b100e98-1\\xgboost\\xgboost-ci-windows\\src\\learner.cc:740: \n",
      "Parameters: { \"use_label_encoder\" } are not used.\n",
      "\n",
      "  warnings.warn(smsg, UserWarning)\n"
     ]
    }
   ],
   "source": [
    "# Split into train and test sets\n",
    "X_train, X_test, y_train, y_test = train_test_split(X, y, test_size=0.2, random_state=42)\n",
    "\n",
    "# Standardize features for models sensitive to scaling\n",
    "scaler = StandardScaler()\n",
    "X_train_scaled = scaler.fit_transform(X_train)\n",
    "X_test_scaled = scaler.transform(X_test)\n",
    "\n",
    "# Initialize classifiers\n",
    "models = {\n",
    "    \"Logistic Regression\": LogisticRegression(max_iter=500),\n",
    "    \"Decision Tree\": DecisionTreeClassifier(),\n",
    "    \"Random Forest\": RandomForestClassifier(n_estimators=100),\n",
    "    \"K-Nearest Neighbors\": KNeighborsClassifier(n_neighbors=5),\n",
    "    \"SVM\": SVC(kernel='rbf'),\n",
    "    \"Gradient Boosting\": GradientBoostingClassifier(n_estimators=100),\n",
    "    \"XGBoost\": xgb.XGBClassifier(use_label_encoder=False, eval_metric='mlogloss')\n",
    "}\n",
    "\n",
    "# Train and evaluate all classifiers\n",
    "for model_name, model in models.items():\n",
    "    print(f\"\\nTraining {model_name}...\")\n",
    "    if model_name in [\"Logistic Regression\", \"SVM\", \"K-Nearest Neighbors\"]:  # Use scaled data for these models\n",
    "        model.fit(X_train_scaled, y_train)\n",
    "        y_pred = model.predict(X_test_scaled)\n",
    "    else:  # Use unscaled data for tree-based models\n",
    "        model.fit(X_train, y_train)\n",
    "        y_pred = model.predict(X_test)\n",
    "\n",
    "    # Evaluation metrics\n",
    "    accuracy = accuracy_score(y_test, y_pred)\n",
    "    precision = precision_score(y_test, y_pred, average='weighted', zero_division=0)\n",
    "    recall = recall_score(y_test, y_pred, average='weighted', zero_division=0)\n",
    "    f1 = f1_score(y_test, y_pred, average='weighted', zero_division=0)\n",
    "\n",
    "    print(f\"Accuracy: {accuracy:.4f}\")\n",
    "    print(f\"Precision: {precision:.4f}\")\n",
    "    print(f\"Recall: {recall:.4f}\")\n",
    "    print(f\"F1-Score: {f1:.4f}\")\n",
    "    \n",
    "    # print(\"\\nClassification Report:\")\n",
    "    # print(classification_report(y_test, y_pred, target_names=label_encoder.classes_))\n",
    "    # print(\"Confusion Matrix:\")\n",
    "    # print(confusion_matrix(y_test, y_pred))"
   ]
  }
 ],
 "metadata": {
  "kernelspec": {
   "display_name": "Python 3 (ipykernel)",
   "language": "python",
   "name": "python3"
  },
  "language_info": {
   "codemirror_mode": {
    "name": "ipython",
    "version": 3
   },
   "file_extension": ".py",
   "mimetype": "text/x-python",
   "name": "python",
   "nbconvert_exporter": "python",
   "pygments_lexer": "ipython3",
   "version": "3.11.4"
  }
 },
 "nbformat": 4,
 "nbformat_minor": 5
}
